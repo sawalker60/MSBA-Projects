{
 "cells": [
  {
   "cell_type": "markdown",
   "id": "942cd498-4ab4-49c8-bc19-ee50a9b87ff6",
   "metadata": {},
   "source": [
    "# Scraping Tables From The Web"
   ]
  },
  {
   "cell_type": "markdown",
   "id": "191ca0a8-4c7a-4b60-8fc8-c56d23edb4d2",
   "metadata": {},
   "source": [
    "## Scraping Tables using requests and BeautifulSoup"
   ]
  },
  {
   "cell_type": "code",
   "execution_count": 15,
   "id": "81f5f19c-099d-42c4-ab53-e041a1b967aa",
   "metadata": {},
   "outputs": [],
   "source": [
    "url = 'https://www.ncaa.com/rankings/basketball-men/d1/ncaa-mens-basketball-net-rankings'\n",
    "\n",
    "test = pd.read_html(url)"
   ]
  },
  {
   "cell_type": "code",
   "execution_count": 19,
   "id": "93805940-3abe-42a7-bc7e-8aef2b595cf3",
   "metadata": {},
   "outputs": [
    {
     "data": {
      "text/html": [
       "<div>\n",
       "<style scoped>\n",
       "    .dataframe tbody tr th:only-of-type {\n",
       "        vertical-align: middle;\n",
       "    }\n",
       "\n",
       "    .dataframe tbody tr th {\n",
       "        vertical-align: top;\n",
       "    }\n",
       "\n",
       "    .dataframe thead th {\n",
       "        text-align: right;\n",
       "    }\n",
       "</style>\n",
       "<table border=\"1\" class=\"dataframe\">\n",
       "  <thead>\n",
       "    <tr style=\"text-align: right;\">\n",
       "      <th></th>\n",
       "      <th>Rank</th>\n",
       "      <th>Previous</th>\n",
       "      <th>School</th>\n",
       "      <th>Conference</th>\n",
       "      <th>Record</th>\n",
       "      <th>Road</th>\n",
       "      <th>Neutral</th>\n",
       "      <th>Home</th>\n",
       "      <th>Quad 1</th>\n",
       "      <th>Quad 2</th>\n",
       "      <th>Quad 3</th>\n",
       "      <th>Quad 4</th>\n",
       "    </tr>\n",
       "  </thead>\n",
       "  <tbody>\n",
       "    <tr>\n",
       "      <th>0</th>\n",
       "      <td>1</td>\n",
       "      <td>1</td>\n",
       "      <td>Houston</td>\n",
       "      <td>AAC</td>\n",
       "      <td>31-3</td>\n",
       "      <td>11-0</td>\n",
       "      <td>4-1</td>\n",
       "      <td>16-2</td>\n",
       "      <td>7-2</td>\n",
       "      <td>8-0</td>\n",
       "      <td>7-1</td>\n",
       "      <td>9-0</td>\n",
       "    </tr>\n",
       "    <tr>\n",
       "      <th>1</th>\n",
       "      <td>2</td>\n",
       "      <td>2</td>\n",
       "      <td>Alabama</td>\n",
       "      <td>SEC</td>\n",
       "      <td>29-5</td>\n",
       "      <td>9-3</td>\n",
       "      <td>5-2</td>\n",
       "      <td>15-0</td>\n",
       "      <td>13-5</td>\n",
       "      <td>6-0</td>\n",
       "      <td>7-0</td>\n",
       "      <td>3-0</td>\n",
       "    </tr>\n",
       "    <tr>\n",
       "      <th>2</th>\n",
       "      <td>3</td>\n",
       "      <td>3</td>\n",
       "      <td>UCLA</td>\n",
       "      <td>Pac-12</td>\n",
       "      <td>29-5</td>\n",
       "      <td>9-2</td>\n",
       "      <td>3-3</td>\n",
       "      <td>17-0</td>\n",
       "      <td>8-5</td>\n",
       "      <td>9-0</td>\n",
       "      <td>5-0</td>\n",
       "      <td>7-0</td>\n",
       "    </tr>\n",
       "    <tr>\n",
       "      <th>3</th>\n",
       "      <td>4</td>\n",
       "      <td>4</td>\n",
       "      <td>Tennessee</td>\n",
       "      <td>SEC</td>\n",
       "      <td>23-10</td>\n",
       "      <td>4-6</td>\n",
       "      <td>5-2</td>\n",
       "      <td>14-2</td>\n",
       "      <td>7-7</td>\n",
       "      <td>3-3</td>\n",
       "      <td>6-0</td>\n",
       "      <td>7-0</td>\n",
       "    </tr>\n",
       "    <tr>\n",
       "      <th>4</th>\n",
       "      <td>5</td>\n",
       "      <td>5</td>\n",
       "      <td>Purdue</td>\n",
       "      <td>Big Ten</td>\n",
       "      <td>29-5</td>\n",
       "      <td>8-3</td>\n",
       "      <td>7-0</td>\n",
       "      <td>14-2</td>\n",
       "      <td>10-4</td>\n",
       "      <td>9-1</td>\n",
       "      <td>5-0</td>\n",
       "      <td>5-0</td>\n",
       "    </tr>\n",
       "    <tr>\n",
       "      <th>...</th>\n",
       "      <td>...</td>\n",
       "      <td>...</td>\n",
       "      <td>...</td>\n",
       "      <td>...</td>\n",
       "      <td>...</td>\n",
       "      <td>...</td>\n",
       "      <td>...</td>\n",
       "      <td>...</td>\n",
       "      <td>...</td>\n",
       "      <td>...</td>\n",
       "      <td>...</td>\n",
       "      <td>...</td>\n",
       "    </tr>\n",
       "    <tr>\n",
       "      <th>358</th>\n",
       "      <td>359</td>\n",
       "      <td>359</td>\n",
       "      <td>Florida A&amp;M</td>\n",
       "      <td>SWAC</td>\n",
       "      <td>5-22</td>\n",
       "      <td>3-15</td>\n",
       "      <td>0-0</td>\n",
       "      <td>2-7</td>\n",
       "      <td>0-5</td>\n",
       "      <td>0-0</td>\n",
       "      <td>0-4</td>\n",
       "      <td>5-13</td>\n",
       "    </tr>\n",
       "    <tr>\n",
       "      <th>359</th>\n",
       "      <td>360</td>\n",
       "      <td>360</td>\n",
       "      <td>IUPUI</td>\n",
       "      <td>Horizon</td>\n",
       "      <td>3-27</td>\n",
       "      <td>0-15</td>\n",
       "      <td>1-3</td>\n",
       "      <td>2-9</td>\n",
       "      <td>0-2</td>\n",
       "      <td>0-1</td>\n",
       "      <td>0-8</td>\n",
       "      <td>3-16</td>\n",
       "    </tr>\n",
       "    <tr>\n",
       "      <th>360</th>\n",
       "      <td>361</td>\n",
       "      <td>361</td>\n",
       "      <td>Green Bay</td>\n",
       "      <td>Horizon</td>\n",
       "      <td>3-29</td>\n",
       "      <td>1-17</td>\n",
       "      <td>0-2</td>\n",
       "      <td>2-10</td>\n",
       "      <td>0-0</td>\n",
       "      <td>0-5</td>\n",
       "      <td>1-10</td>\n",
       "      <td>2-14</td>\n",
       "    </tr>\n",
       "    <tr>\n",
       "      <th>361</th>\n",
       "      <td>362</td>\n",
       "      <td>362</td>\n",
       "      <td>LIU</td>\n",
       "      <td>NEC</td>\n",
       "      <td>1-26</td>\n",
       "      <td>1-14</td>\n",
       "      <td>0-2</td>\n",
       "      <td>0-10</td>\n",
       "      <td>0-2</td>\n",
       "      <td>0-3</td>\n",
       "      <td>0-2</td>\n",
       "      <td>1-19</td>\n",
       "    </tr>\n",
       "    <tr>\n",
       "      <th>362</th>\n",
       "      <td>363</td>\n",
       "      <td>363</td>\n",
       "      <td>Hartford</td>\n",
       "      <td>DI Independent</td>\n",
       "      <td>2-23</td>\n",
       "      <td>0-11</td>\n",
       "      <td>0-2</td>\n",
       "      <td>2-10</td>\n",
       "      <td>0-0</td>\n",
       "      <td>0-2</td>\n",
       "      <td>0-5</td>\n",
       "      <td>2-16</td>\n",
       "    </tr>\n",
       "  </tbody>\n",
       "</table>\n",
       "<p>363 rows × 12 columns</p>\n",
       "</div>"
      ],
      "text/plain": [
       "     Rank  Previous       School      Conference Record  Road Neutral  Home  \\\n",
       "0       1         1      Houston             AAC   31-3  11-0     4-1  16-2   \n",
       "1       2         2      Alabama             SEC   29-5   9-3     5-2  15-0   \n",
       "2       3         3         UCLA          Pac-12   29-5   9-2     3-3  17-0   \n",
       "3       4         4    Tennessee             SEC  23-10   4-6     5-2  14-2   \n",
       "4       5         5       Purdue         Big Ten   29-5   8-3     7-0  14-2   \n",
       "..    ...       ...          ...             ...    ...   ...     ...   ...   \n",
       "358   359       359  Florida A&M            SWAC   5-22  3-15     0-0   2-7   \n",
       "359   360       360        IUPUI         Horizon   3-27  0-15     1-3   2-9   \n",
       "360   361       361    Green Bay         Horizon   3-29  1-17     0-2  2-10   \n",
       "361   362       362          LIU             NEC   1-26  1-14     0-2  0-10   \n",
       "362   363       363     Hartford  DI Independent   2-23  0-11     0-2  2-10   \n",
       "\n",
       "    Quad 1 Quad 2 Quad 3 Quad 4  \n",
       "0      7-2    8-0    7-1    9-0  \n",
       "1     13-5    6-0    7-0    3-0  \n",
       "2      8-5    9-0    5-0    7-0  \n",
       "3      7-7    3-3    6-0    7-0  \n",
       "4     10-4    9-1    5-0    5-0  \n",
       "..     ...    ...    ...    ...  \n",
       "358    0-5    0-0    0-4   5-13  \n",
       "359    0-2    0-1    0-8   3-16  \n",
       "360    0-0    0-5   1-10   2-14  \n",
       "361    0-2    0-3    0-2   1-19  \n",
       "362    0-0    0-2    0-5   2-16  \n",
       "\n",
       "[363 rows x 12 columns]"
      ]
     },
     "execution_count": 19,
     "metadata": {},
     "output_type": "execute_result"
    }
   ],
   "source": [
    "test[0]"
   ]
  },
  {
   "cell_type": "code",
   "execution_count": 1,
   "id": "c4d1f277-1373-4d07-b82c-1c14ba40fca9",
   "metadata": {},
   "outputs": [],
   "source": [
    "import bs4\n",
    "import requests\n",
    "import pandas as pd\n",
    "pd.set_option('display.max_columns', None)\n",
    "pd.set_option('display.max_rows', 100)"
   ]
  },
  {
   "cell_type": "code",
   "execution_count": 2,
   "id": "a10c5b8d-c899-4a3d-8d29-24f98b3a1817",
   "metadata": {},
   "outputs": [
    {
     "name": "stdout",
     "output_type": "stream",
     "text": [
      "Status code for NCAA Site - 200\n"
     ]
    }
   ],
   "source": [
    "url = 'https://www.ncaa.com/rankings/basketball-men/d1/ncaa-mens-basketball-net-rankings'\n",
    "\n",
    "headers = {\n",
    "    'user-agent': 'myuseragent',\n",
    "}\n",
    "\n",
    "r = requests.get(url, params=headers)\n",
    "print(f'Status code for NCAA Site - {r.status_code}')"
   ]
  },
  {
   "cell_type": "markdown",
   "id": "4670e6b5-e8d6-46c5-9113-6b52c27fc0d5",
   "metadata": {},
   "source": [
    "Websites html as text:"
   ]
  },
  {
   "cell_type": "code",
   "execution_count": 3,
   "id": "5b00fc06-6d71-4593-a618-ec26079ef45c",
   "metadata": {},
   "outputs": [],
   "source": [
    "soup = bs4.BeautifulSoup(r.text, \"html.parser\")"
   ]
  },
  {
   "cell_type": "markdown",
   "id": "f2f55fa1-aa29-453e-865c-3970d91060c0",
   "metadata": {},
   "source": [
    "Parsing to just the table"
   ]
  },
  {
   "cell_type": "code",
   "execution_count": 4,
   "id": "588f8b47-9078-4a52-a46e-86906ee0e549",
   "metadata": {},
   "outputs": [],
   "source": [
    "table = soup.find('table')"
   ]
  },
  {
   "cell_type": "markdown",
   "id": "70243fa5-3b36-47f1-8c32-486da2dd4b1a",
   "metadata": {},
   "source": [
    "Parsing to just the table body"
   ]
  },
  {
   "cell_type": "code",
   "execution_count": 5,
   "id": "086c4da0-6d4e-4106-8b7e-f57ccf067c3f",
   "metadata": {},
   "outputs": [],
   "source": [
    "data = table.find('tbody')"
   ]
  },
  {
   "cell_type": "markdown",
   "id": "ef2fed7f-0470-4a6d-bb10-30074e06cd29",
   "metadata": {},
   "source": [
    "Parsing to just the table rows"
   ]
  },
  {
   "cell_type": "code",
   "execution_count": 6,
   "id": "afe0e9e3-743e-4b91-89bb-c8c8cd045966",
   "metadata": {},
   "outputs": [],
   "source": [
    "rows = data.find_all('tr')"
   ]
  },
  {
   "cell_type": "markdown",
   "id": "c5e05516-b9e1-4f4f-9349-d644e35a3d00",
   "metadata": {},
   "source": [
    "First row of the table"
   ]
  },
  {
   "cell_type": "code",
   "execution_count": 7,
   "id": "f1dd3f10-b882-4d97-820f-2ad643441d7d",
   "metadata": {},
   "outputs": [
    {
     "data": {
      "text/plain": [
       "<tr>\n",
       "<td>1</td>\n",
       "<td>1</td>\n",
       "<td>Houston</td>\n",
       "<td>AAC</td>\n",
       "<td>31-3</td>\n",
       "<td>11-0</td>\n",
       "<td>4-1</td>\n",
       "<td>16-2</td>\n",
       "<td>7-2</td>\n",
       "<td>8-0</td>\n",
       "<td>7-1</td>\n",
       "<td>9-0</td>\n",
       "</tr>"
      ]
     },
     "execution_count": 7,
     "metadata": {},
     "output_type": "execute_result"
    }
   ],
   "source": [
    "rows[0]"
   ]
  },
  {
   "cell_type": "markdown",
   "id": "b95ad643-678b-460d-a73c-998e40efe65e",
   "metadata": {},
   "source": [
    "Grabbing the data from the first row"
   ]
  },
  {
   "cell_type": "code",
   "execution_count": 8,
   "id": "0e0423a5-c281-4fd0-81f8-ce9ebe21d250",
   "metadata": {},
   "outputs": [
    {
     "data": {
      "text/plain": [
       "'Houston'"
      ]
     },
     "execution_count": 8,
     "metadata": {},
     "output_type": "execute_result"
    }
   ],
   "source": [
    "rows[0].find_all('td')[2].text"
   ]
  },
  {
   "cell_type": "markdown",
   "id": "9e72a211-7727-4026-a54a-2227729df111",
   "metadata": {},
   "source": [
    "Looping through each row and grabbing the data we wanted"
   ]
  },
  {
   "cell_type": "code",
   "execution_count": 9,
   "id": "c90f8917-17eb-4611-a653-6bc6de881615",
   "metadata": {},
   "outputs": [],
   "source": [
    "net = {\n",
    "    'rank': [],\n",
    "    'team': [],\n",
    "    'road': [],\n",
    "    'neutral': [],\n",
    "    'home': [],\n",
    "    'quad1': [],\n",
    "    'quad2': [],\n",
    "    'quad3': [],\n",
    "    'quad4': [],\n",
    "}\n",
    "\n",
    "for row in rows:\n",
    "    rank = row.find_all('td')[0].text\n",
    "    team = row.find_all('td')[2].text\n",
    "    road = row.find_all('td')[5].text\n",
    "    neutral = row.find_all('td')[6].text\n",
    "    home = row.find_all('td')[7].text\n",
    "    quad1 = row.find_all('td')[8].text\n",
    "    quad2 = row.find_all('td')[9].text\n",
    "    quad3 = row.find_all('td')[10].text\n",
    "    quad4 = row.find_all('td')[11].text\n",
    "    \n",
    "    net['rank'].append(rank)\n",
    "    net['team'].append(team)\n",
    "    net['road'].append(road)\n",
    "    net['neutral'].append(neutral)\n",
    "    net['home'].append(home)\n",
    "    net['quad1'].append(quad1)\n",
    "    net['quad2'].append(quad2)\n",
    "    net['quad3'].append(quad3)\n",
    "    net['quad4'].append(quad4)\n",
    "    \n",
    "df = pd.DataFrame.from_dict(net)"
   ]
  },
  {
   "cell_type": "markdown",
   "id": "07742ba7-9b58-4e4a-9335-45fd1e2285be",
   "metadata": {},
   "source": [
    "Table from the website is now a pandas dataframe"
   ]
  },
  {
   "cell_type": "code",
   "execution_count": 10,
   "id": "96e4746c-7aec-4d71-b2a5-50199ed69664",
   "metadata": {},
   "outputs": [
    {
     "data": {
      "text/html": [
       "<div>\n",
       "<style scoped>\n",
       "    .dataframe tbody tr th:only-of-type {\n",
       "        vertical-align: middle;\n",
       "    }\n",
       "\n",
       "    .dataframe tbody tr th {\n",
       "        vertical-align: top;\n",
       "    }\n",
       "\n",
       "    .dataframe thead th {\n",
       "        text-align: right;\n",
       "    }\n",
       "</style>\n",
       "<table border=\"1\" class=\"dataframe\">\n",
       "  <thead>\n",
       "    <tr style=\"text-align: right;\">\n",
       "      <th></th>\n",
       "      <th>rank</th>\n",
       "      <th>team</th>\n",
       "      <th>road</th>\n",
       "      <th>neutral</th>\n",
       "      <th>home</th>\n",
       "      <th>quad1</th>\n",
       "      <th>quad2</th>\n",
       "      <th>quad3</th>\n",
       "      <th>quad4</th>\n",
       "    </tr>\n",
       "  </thead>\n",
       "  <tbody>\n",
       "    <tr>\n",
       "      <th>0</th>\n",
       "      <td>1</td>\n",
       "      <td>Houston</td>\n",
       "      <td>11-0</td>\n",
       "      <td>4-1</td>\n",
       "      <td>16-2</td>\n",
       "      <td>7-2</td>\n",
       "      <td>8-0</td>\n",
       "      <td>7-1</td>\n",
       "      <td>9-0</td>\n",
       "    </tr>\n",
       "    <tr>\n",
       "      <th>1</th>\n",
       "      <td>2</td>\n",
       "      <td>Alabama</td>\n",
       "      <td>9-3</td>\n",
       "      <td>5-2</td>\n",
       "      <td>15-0</td>\n",
       "      <td>13-5</td>\n",
       "      <td>6-0</td>\n",
       "      <td>7-0</td>\n",
       "      <td>3-0</td>\n",
       "    </tr>\n",
       "    <tr>\n",
       "      <th>2</th>\n",
       "      <td>3</td>\n",
       "      <td>UCLA</td>\n",
       "      <td>9-2</td>\n",
       "      <td>3-3</td>\n",
       "      <td>17-0</td>\n",
       "      <td>8-5</td>\n",
       "      <td>9-0</td>\n",
       "      <td>5-0</td>\n",
       "      <td>7-0</td>\n",
       "    </tr>\n",
       "    <tr>\n",
       "      <th>3</th>\n",
       "      <td>4</td>\n",
       "      <td>Tennessee</td>\n",
       "      <td>4-6</td>\n",
       "      <td>5-2</td>\n",
       "      <td>14-2</td>\n",
       "      <td>7-7</td>\n",
       "      <td>3-3</td>\n",
       "      <td>6-0</td>\n",
       "      <td>7-0</td>\n",
       "    </tr>\n",
       "    <tr>\n",
       "      <th>4</th>\n",
       "      <td>5</td>\n",
       "      <td>Purdue</td>\n",
       "      <td>8-3</td>\n",
       "      <td>7-0</td>\n",
       "      <td>14-2</td>\n",
       "      <td>10-4</td>\n",
       "      <td>9-1</td>\n",
       "      <td>5-0</td>\n",
       "      <td>5-0</td>\n",
       "    </tr>\n",
       "    <tr>\n",
       "      <th>...</th>\n",
       "      <td>...</td>\n",
       "      <td>...</td>\n",
       "      <td>...</td>\n",
       "      <td>...</td>\n",
       "      <td>...</td>\n",
       "      <td>...</td>\n",
       "      <td>...</td>\n",
       "      <td>...</td>\n",
       "      <td>...</td>\n",
       "    </tr>\n",
       "    <tr>\n",
       "      <th>358</th>\n",
       "      <td>359</td>\n",
       "      <td>Florida A&amp;M</td>\n",
       "      <td>3-15</td>\n",
       "      <td>0-0</td>\n",
       "      <td>2-7</td>\n",
       "      <td>0-5</td>\n",
       "      <td>0-0</td>\n",
       "      <td>0-4</td>\n",
       "      <td>5-13</td>\n",
       "    </tr>\n",
       "    <tr>\n",
       "      <th>359</th>\n",
       "      <td>360</td>\n",
       "      <td>IUPUI</td>\n",
       "      <td>0-15</td>\n",
       "      <td>1-3</td>\n",
       "      <td>2-9</td>\n",
       "      <td>0-2</td>\n",
       "      <td>0-1</td>\n",
       "      <td>0-8</td>\n",
       "      <td>3-16</td>\n",
       "    </tr>\n",
       "    <tr>\n",
       "      <th>360</th>\n",
       "      <td>361</td>\n",
       "      <td>Green Bay</td>\n",
       "      <td>1-17</td>\n",
       "      <td>0-2</td>\n",
       "      <td>2-10</td>\n",
       "      <td>0-0</td>\n",
       "      <td>0-5</td>\n",
       "      <td>1-10</td>\n",
       "      <td>2-14</td>\n",
       "    </tr>\n",
       "    <tr>\n",
       "      <th>361</th>\n",
       "      <td>362</td>\n",
       "      <td>LIU</td>\n",
       "      <td>1-14</td>\n",
       "      <td>0-2</td>\n",
       "      <td>0-10</td>\n",
       "      <td>0-2</td>\n",
       "      <td>0-3</td>\n",
       "      <td>0-2</td>\n",
       "      <td>1-19</td>\n",
       "    </tr>\n",
       "    <tr>\n",
       "      <th>362</th>\n",
       "      <td>363</td>\n",
       "      <td>Hartford</td>\n",
       "      <td>0-11</td>\n",
       "      <td>0-2</td>\n",
       "      <td>2-10</td>\n",
       "      <td>0-0</td>\n",
       "      <td>0-2</td>\n",
       "      <td>0-5</td>\n",
       "      <td>2-16</td>\n",
       "    </tr>\n",
       "  </tbody>\n",
       "</table>\n",
       "<p>363 rows × 9 columns</p>\n",
       "</div>"
      ],
      "text/plain": [
       "    rank         team  road neutral  home quad1 quad2 quad3 quad4\n",
       "0      1      Houston  11-0     4-1  16-2   7-2   8-0   7-1   9-0\n",
       "1      2      Alabama   9-3     5-2  15-0  13-5   6-0   7-0   3-0\n",
       "2      3         UCLA   9-2     3-3  17-0   8-5   9-0   5-0   7-0\n",
       "3      4    Tennessee   4-6     5-2  14-2   7-7   3-3   6-0   7-0\n",
       "4      5       Purdue   8-3     7-0  14-2  10-4   9-1   5-0   5-0\n",
       "..   ...          ...   ...     ...   ...   ...   ...   ...   ...\n",
       "358  359  Florida A&M  3-15     0-0   2-7   0-5   0-0   0-4  5-13\n",
       "359  360        IUPUI  0-15     1-3   2-9   0-2   0-1   0-8  3-16\n",
       "360  361    Green Bay  1-17     0-2  2-10   0-0   0-5  1-10  2-14\n",
       "361  362          LIU  1-14     0-2  0-10   0-2   0-3   0-2  1-19\n",
       "362  363     Hartford  0-11     0-2  2-10   0-0   0-2   0-5  2-16\n",
       "\n",
       "[363 rows x 9 columns]"
      ]
     },
     "execution_count": 10,
     "metadata": {},
     "output_type": "execute_result"
    }
   ],
   "source": [
    "df"
   ]
  },
  {
   "cell_type": "markdown",
   "id": "d1d84dbf-45f0-498b-a6dd-16f00e5d2bf9",
   "metadata": {},
   "source": [
    "## Scraping Tables using Selenium and BeautifulSoup"
   ]
  },
  {
   "cell_type": "code",
   "execution_count": 11,
   "id": "e011776d-009b-44dc-aa5d-5df4eea2b85d",
   "metadata": {},
   "outputs": [],
   "source": [
    "from selenium import webdriver\n",
    "from selenium.webdriver.chrome.service import Service\n",
    "from selenium.webdriver.common.by import By"
   ]
  },
  {
   "cell_type": "markdown",
   "id": "0aa6e415-ff91-4e1c-a17d-ec07f53c9165",
   "metadata": {},
   "source": [
    "Setting up the browser "
   ]
  },
  {
   "cell_type": "code",
   "execution_count": 12,
   "id": "160251b8-9d61-4ac6-9dd5-74d371c5f578",
   "metadata": {},
   "outputs": [
    {
     "name": "stderr",
     "output_type": "stream",
     "text": [
      "C:\\Users\\austi\\AppData\\Local\\Temp\\ipykernel_21720\\4284348930.py:3: DeprecationWarning: executable_path has been deprecated, please pass in a Service object\n",
      "  browser = webdriver.Chrome(executable_path = path)\n"
     ]
    }
   ],
   "source": [
    "path = r'C:\\chromedriver/chromedriver'\n",
    "service = Service(executable_path = path)\n",
    "browser = webdriver.Chrome(executable_path = path)\n",
    "browser.get('https://www.espn.com/mens-college-basketball/bpi')"
   ]
  },
  {
   "cell_type": "markdown",
   "id": "b563c18a-619b-4bc3-885b-3ad9d0e1a23c",
   "metadata": {},
   "source": [
    "Intial tables from the website html"
   ]
  },
  {
   "cell_type": "code",
   "execution_count": null,
   "id": "4c60f9bd-d0f8-4b74-8db2-7c5e40d31500",
   "metadata": {},
   "outputs": [],
   "source": [
    "soup = bs4.BeautifulSoup(browser.page_source, \"html.parser\")\n",
    "table = soup.find_all('table')\n",
    "table"
   ]
  },
  {
   "cell_type": "markdown",
   "id": "a89c3885-e0ec-418b-b4d2-cf9b39bec5ac",
   "metadata": {},
   "source": [
    "We only have the first 50 rows of the table. We need can use Selenium to show the whole table."
   ]
  },
  {
   "cell_type": "code",
   "execution_count": null,
   "id": "15e23d4d-bd26-46e4-b6ae-6f67a349c8cb",
   "metadata": {},
   "outputs": [],
   "source": [
    "page_num = 0\n",
    "\n",
    "try:\n",
    "    while browser.find_element(By.CLASS_NAME, \"loadMore\"):\n",
    "        browser.find_element(By.CLASS_NAME, \"loadMore__link\").click()\n",
    "        page_num += 1\n",
    "        print(\"getting page number \"+str(page_num))\n",
    "        time.sleep(1)\n",
    "except Exception as e:\n",
    "    print(\"\\nEnd of Page\")"
   ]
  },
  {
   "cell_type": "markdown",
   "id": "692334d1-2a44-4e27-bacf-805875c17b4c",
   "metadata": {},
   "source": [
    "Website tables as html text (this time with all rows)"
   ]
  },
  {
   "cell_type": "code",
   "execution_count": null,
   "id": "8d92fcc4-9e58-41b7-91c2-599e5c851656",
   "metadata": {},
   "outputs": [],
   "source": [
    "soup = bs4.BeautifulSoup(browser.page_source, \"html.parser\")\n",
    "table = soup.find_all('table')"
   ]
  },
  {
   "cell_type": "markdown",
   "id": "b504928f-ca7e-4c42-a53e-597cee668e33",
   "metadata": {},
   "source": [
    "Tables 1 (school names) and 2 (school data)"
   ]
  },
  {
   "cell_type": "code",
   "execution_count": null,
   "id": "75c42263-d00a-4df6-bddc-3aa2aed2e3aa",
   "metadata": {},
   "outputs": [],
   "source": [
    "table_names = table[0]\n",
    "table_data = table[1]"
   ]
  },
  {
   "cell_type": "markdown",
   "id": "6b66c929-ecf7-4722-a0d2-f694748432c8",
   "metadata": {},
   "source": [
    "Parsing to just the tables body"
   ]
  },
  {
   "cell_type": "code",
   "execution_count": null,
   "id": "97ac695a-0b59-4500-860c-2fce8cebcc8f",
   "metadata": {},
   "outputs": [],
   "source": [
    "names = table_names.find('tbody')\n",
    "data = table_data.find('tbody')"
   ]
  },
  {
   "cell_type": "markdown",
   "id": "5092704e-9cda-4fcc-a993-4ddfd04ba278",
   "metadata": {},
   "source": [
    "Parsing to just the tables rows"
   ]
  },
  {
   "cell_type": "code",
   "execution_count": null,
   "id": "3b71c0b6-79b0-460f-8d0d-8ee522a7ab9a",
   "metadata": {},
   "outputs": [],
   "source": [
    "names_rows = names.find_all('tr')\n",
    "rows = data.find_all('tr')"
   ]
  },
  {
   "cell_type": "markdown",
   "id": "dd48afb6-57a3-4ac6-88e9-f71f156aadc4",
   "metadata": {},
   "source": [
    "First row of school names table"
   ]
  },
  {
   "cell_type": "code",
   "execution_count": null,
   "id": "0abdcfda-3904-406b-91ff-45c9e36d6a7b",
   "metadata": {},
   "outputs": [],
   "source": [
    "names_rows[0]"
   ]
  },
  {
   "cell_type": "markdown",
   "id": "ba08340a-2e8b-4dae-9a00-e5ce476ac95a",
   "metadata": {},
   "source": [
    "Grabbing data from the first row"
   ]
  },
  {
   "cell_type": "code",
   "execution_count": null,
   "id": "0a2ad43d-e5c0-4420-a36a-68f169ac478e",
   "metadata": {},
   "outputs": [],
   "source": [
    "names_rows[0].find_all('td')[0].text"
   ]
  },
  {
   "cell_type": "markdown",
   "id": "b61760b3-86af-45d7-ae13-61f755c90c14",
   "metadata": {},
   "source": [
    "First row of school data table"
   ]
  },
  {
   "cell_type": "code",
   "execution_count": null,
   "id": "f2246b61-083b-4e2e-af3d-2136a8513686",
   "metadata": {},
   "outputs": [],
   "source": [
    "rows[0]"
   ]
  },
  {
   "cell_type": "markdown",
   "id": "9b15d518-df19-4c5c-ab0b-6fe1209d3194",
   "metadata": {},
   "source": [
    "Grabbing data from the first row"
   ]
  },
  {
   "cell_type": "code",
   "execution_count": null,
   "id": "0de303e2-fa7f-4492-a44f-339a35775c4b",
   "metadata": {},
   "outputs": [],
   "source": [
    "rows[0].find_all('td')[0].text"
   ]
  },
  {
   "cell_type": "markdown",
   "id": "dc94d2d2-9507-42d3-a491-2a7663603022",
   "metadata": {},
   "source": [
    "Looping through each row and grabbing the data we wanted"
   ]
  },
  {
   "cell_type": "code",
   "execution_count": null,
   "id": "4ba45f55-c09c-4a14-8835-150570ea7539",
   "metadata": {},
   "outputs": [],
   "source": [
    "BPI_data = {\n",
    "    'team': [],\n",
    "    'BPI': [],\n",
    "    'rank': [],\n",
    "    'off_BPI': [],\n",
    "    'def_BPI': [],\n",
    "}\n",
    "\n",
    "\n",
    "for row in names_rows:\n",
    "    team = row.find_all('td')[0].text\n",
    "    \n",
    "    BPI_data['team'].append(team)\n",
    "\n",
    "for row in rows:\n",
    "    BPI = row.find_all('td')[1].text\n",
    "    rank = row.find_all('td')[2].text\n",
    "    off_BPI = row.find_all('td')[4].text\n",
    "    def_BPI = row.find_all('td')[5].text\n",
    "    \n",
    "    BPI_data['BPI'].append(BPI)\n",
    "    BPI_data['rank'].append(rank)\n",
    "    BPI_data['off_BPI'].append(off_BPI)\n",
    "    BPI_data['def_BPI'].append(def_BPI)\n",
    "    \n",
    "df = pd.DataFrame.from_dict(BPI_data)"
   ]
  },
  {
   "cell_type": "markdown",
   "id": "8922a16b-5466-4d9c-83d7-e38e27ef228e",
   "metadata": {},
   "source": [
    "Table from the website is now a pandas dataframe"
   ]
  },
  {
   "cell_type": "code",
   "execution_count": null,
   "id": "fb3841cd-788b-4170-ae96-44477b9e39d3",
   "metadata": {},
   "outputs": [],
   "source": [
    "df"
   ]
  },
  {
   "cell_type": "markdown",
   "id": "559d018c-7acc-42a2-9692-d4ea83a19c8d",
   "metadata": {},
   "source": [
    "## ScrapingBee"
   ]
  },
  {
   "cell_type": "markdown",
   "id": "241ec625-c558-4c93-9918-6b336de96509",
   "metadata": {},
   "source": [
    "Copy of the created code from ScrapingBee's Scraping API"
   ]
  },
  {
   "cell_type": "markdown",
   "id": "2f57c9d1-af6a-482a-b24b-3459aa6d7945",
   "metadata": {},
   "source": [
    "Example scraping the list of Super Bowl champions"
   ]
  },
  {
   "cell_type": "code",
   "execution_count": 13,
   "id": "170710b6-3152-4659-a30d-ebf65931aece",
   "metadata": {},
   "outputs": [],
   "source": [
    "#  Install the Python Requests library:\n",
    "# `pip install requests`\n",
    "import requests\n",
    "\n",
    "def send_request():\n",
    "    response = requests.get(\n",
    "        url='https://app.scrapingbee.com/api/v1/',\n",
    "        params={\n",
    "            'api_key': 'J3TN6YNLZKUM42Y2Q22NKR17V3L3NUT8L36M4DINDFDLC5FVHMQETNYJEV5TGNLBU4ZI4LR1Y7HCUW37',\n",
    "            'url': 'https://en.wikipedia.org/wiki/List_of_Super_Bowl_champions', \n",
    "            'extract_rules': '{\"table_json\":{\"selector\":\".jquery-tablesorter\",\"output\":\"table_json\"}}', \n",
    "        },\n",
    "        \n",
    "    )\n",
    "    #print('Response HTTP Status Code: ', response.status_code)\n",
    "    #print('Response HTTP Response Body: ', response.content)\n",
    "    data = response.content\n",
    "    \n",
    "    return data\n",
    "data = send_request()"
   ]
  },
  {
   "cell_type": "markdown",
   "id": "0a5a4ca5-e9d4-47ea-87e9-652d153e8169",
   "metadata": {},
   "source": [
    "Table from the website is now a pandas dataframe"
   ]
  },
  {
   "cell_type": "code",
   "execution_count": 14,
   "id": "dea7d148-d765-4ea7-bb78-0843a5ae872d",
   "metadata": {},
   "outputs": [
    {
     "data": {
      "text/html": [
       "<div>\n",
       "<style scoped>\n",
       "    .dataframe tbody tr th:only-of-type {\n",
       "        vertical-align: middle;\n",
       "    }\n",
       "\n",
       "    .dataframe tbody tr th {\n",
       "        vertical-align: top;\n",
       "    }\n",
       "\n",
       "    .dataframe thead th {\n",
       "        text-align: right;\n",
       "    }\n",
       "</style>\n",
       "<table border=\"1\" class=\"dataframe\">\n",
       "  <thead>\n",
       "    <tr style=\"text-align: right;\">\n",
       "      <th></th>\n",
       "      <th>Game</th>\n",
       "      <th>Date/Season</th>\n",
       "      <th>Winning team</th>\n",
       "      <th>Score</th>\n",
       "      <th>Losing team</th>\n",
       "      <th>Venue</th>\n",
       "      <th>City</th>\n",
       "      <th>Attendance</th>\n",
       "      <th>Referee</th>\n",
       "      <th>Ref</th>\n",
       "    </tr>\n",
       "  </thead>\n",
       "  <tbody>\n",
       "    <tr>\n",
       "      <th>52</th>\n",
       "      <td>LIII</td>\n",
       "      <td>February 3, 2019 (2018)</td>\n",
       "      <td>New England PatriotsA(11, 6–5)</td>\n",
       "      <td>13–3</td>\n",
       "      <td>Los Angeles RamsN(4, 1–3)</td>\n",
       "      <td>Mercedes-Benz Stadium</td>\n",
       "      <td>Atlanta, Georgia (3)</td>\n",
       "      <td>70,081</td>\n",
       "      <td>John Parry</td>\n",
       "      <td>[78][79][80]</td>\n",
       "    </tr>\n",
       "    <tr>\n",
       "      <th>53</th>\n",
       "      <td>LIV</td>\n",
       "      <td>February 2, 2020 (2019)</td>\n",
       "      <td>Kansas City ChiefsA(3, 2–1)</td>\n",
       "      <td>31–20</td>\n",
       "      <td>San Francisco 49ersN(7, 5–2)</td>\n",
       "      <td>Hard Rock Stadium (6)[sb 12]</td>\n",
       "      <td>Miami Gardens, Florida (11)[sb 3]</td>\n",
       "      <td>62,417</td>\n",
       "      <td>Bill Vinovich</td>\n",
       "      <td>[79][80]</td>\n",
       "    </tr>\n",
       "    <tr>\n",
       "      <th>54</th>\n",
       "      <td>LV</td>\n",
       "      <td>February 7, 2021 (2020)</td>\n",
       "      <td>Tampa Bay BuccaneersN(2, 2–0) [W]</td>\n",
       "      <td>31–9</td>\n",
       "      <td>Kansas City ChiefsA(4, 2–2)</td>\n",
       "      <td>Raymond James Stadium (3)</td>\n",
       "      <td>Tampa, Florida (5)</td>\n",
       "      <td>24,835</td>\n",
       "      <td>Carl Cheffers</td>\n",
       "      <td>[79][80]</td>\n",
       "    </tr>\n",
       "    <tr>\n",
       "      <th>55</th>\n",
       "      <td>LVI</td>\n",
       "      <td>February 13, 2022 (2021)</td>\n",
       "      <td>Los Angeles RamsN(5, 2–3)</td>\n",
       "      <td>23–20</td>\n",
       "      <td>Cincinnati BengalsA(3, 0–3)</td>\n",
       "      <td>SoFi Stadium</td>\n",
       "      <td>Inglewood, California (8)[sb 2]</td>\n",
       "      <td>70,048</td>\n",
       "      <td>Ron Torbert</td>\n",
       "      <td>[79][80]</td>\n",
       "    </tr>\n",
       "    <tr>\n",
       "      <th>56</th>\n",
       "      <td>LVII</td>\n",
       "      <td>February 12, 2023 (2022)</td>\n",
       "      <td>Kansas City ChiefsA(5, 3–2)</td>\n",
       "      <td>38–35</td>\n",
       "      <td>Philadelphia EaglesN(4, 1–3)</td>\n",
       "      <td>State Farm Stadium(3)[sb 15]</td>\n",
       "      <td>Glendale, Arizona (4)[sb 13]</td>\n",
       "      <td>67,827</td>\n",
       "      <td>Carl Cheffers</td>\n",
       "      <td></td>\n",
       "    </tr>\n",
       "  </tbody>\n",
       "</table>\n",
       "</div>"
      ],
      "text/plain": [
       "    Game               Date/Season                       Winning team   Score  \\\n",
       "52  LIII   February 3, 2019 (2018)     New England PatriotsA(11, 6–5)   13–3    \n",
       "53   LIV   February 2, 2020 (2019)        Kansas City ChiefsA(3, 2–1)  31–20    \n",
       "54    LV   February 7, 2021 (2020)  Tampa Bay BuccaneersN(2, 2–0) [W]    31–9   \n",
       "55   LVI  February 13, 2022 (2021)          Los Angeles RamsN(5, 2–3)   23–20   \n",
       "56  LVII  February 12, 2023 (2022)        Kansas City ChiefsA(5, 3–2)   38–35   \n",
       "\n",
       "                     Losing team                         Venue  \\\n",
       "52     Los Angeles RamsN(4, 1–3)         Mercedes-Benz Stadium   \n",
       "53  San Francisco 49ersN(7, 5–2)  Hard Rock Stadium (6)[sb 12]   \n",
       "54   Kansas City ChiefsA(4, 2–2)     Raymond James Stadium (3)   \n",
       "55   Cincinnati BengalsA(3, 0–3)                  SoFi Stadium   \n",
       "56  Philadelphia EaglesN(4, 1–3)  State Farm Stadium(3)[sb 15]   \n",
       "\n",
       "                                 City Attendance        Referee           Ref  \n",
       "52               Atlanta, Georgia (3)     70,081     John Parry  [78][79][80]  \n",
       "53  Miami Gardens, Florida (11)[sb 3]     62,417  Bill Vinovich      [79][80]  \n",
       "54                 Tampa, Florida (5)     24,835  Carl Cheffers      [79][80]  \n",
       "55    Inglewood, California (8)[sb 2]     70,048    Ron Torbert      [79][80]  \n",
       "56       Glendale, Arizona (4)[sb 13]     67,827  Carl Cheffers                "
      ]
     },
     "execution_count": 14,
     "metadata": {},
     "output_type": "execute_result"
    }
   ],
   "source": [
    "import json\n",
    "data = data.decode('utf-8')\n",
    "json_string = json.loads(data)\n",
    "df = pd.DataFrame(json_string['table_json'])\n",
    "df = df.rename(columns = {'Game\\n': 'Game', \n",
    "                      'Date/Season\\n': 'Date/Season', \n",
    "                      'Winning team\\n': 'Winning team', \n",
    "                      'Score\\n': 'Score', \n",
    "                      'Losing team\\n': 'Losing team',\n",
    "                      'Venue\\n': 'Venue', \n",
    "                      'City\\n': 'City', \n",
    "                      'Attendance\\n': 'Attendance', \n",
    "                      'Referee\\n': 'Referee', \n",
    "                      'Ref\\n': 'Ref'})\n",
    "\n",
    "for col in df.columns:\n",
    "    df[col] = df[col].str.replace('\\n', '')\n",
    "\n",
    "df.tail()"
   ]
  },
  {
   "cell_type": "code",
   "execution_count": null,
   "id": "528ef840-47fe-419f-95f4-dde8a6001950",
   "metadata": {},
   "outputs": [],
   "source": []
  },
  {
   "cell_type": "code",
   "execution_count": null,
   "id": "2c5c9cc6-7665-4173-85d6-d72b815c571f",
   "metadata": {},
   "outputs": [],
   "source": [
    "import requests\n",
    "\n",
    "def send_request():\n",
    "    response = requests.get(\n",
    "        url='https://app.scrapingbee.com/api/v1/',\n",
    "        params={\n",
    "            'api_key': 'J3TN6YNLZKUM42Y2Q22NKR17V3L3NUT8L36M4DINDFDLC5FVHMQETNYJEV5TGNLBU4ZI4LR1Y7HCUW37',\n",
    "            'url': 'https://rolltide.com/sports/baseball/schedule', \n",
    "            'extract_rules': '{\"images\":{\"selector\":\"img\",\"type\":\"list\",\"output\":{\"src\":\"img@src\",\"alt\":\"img@alt\",}}}', \n",
    "        },\n",
    "        \n",
    "    )\n",
    "    \n",
    "    return response.content\n",
    "data = send_request()"
   ]
  },
  {
   "cell_type": "code",
   "execution_count": null,
   "id": "40a2ee3e-cfdd-4a7e-9dea-dfb5f5102db1",
   "metadata": {},
   "outputs": [],
   "source": [
    "from PIL import Image\n",
    "import urllib.request\n",
    "import json\n",
    "\n",
    "data = data.decode('utf-8')\n",
    "json_string = json.loads(data)"
   ]
  },
  {
   "cell_type": "code",
   "execution_count": null,
   "id": "c119d296-d2de-4c50-a75f-55df53be55c6",
   "metadata": {},
   "outputs": [],
   "source": [
    "link = json_string['images'][6]['src']\n",
    "urllib.request.urlretrieve(link, \"test.jpg\")\n",
    "Image.open('test.jpg')"
   ]
  },
  {
   "cell_type": "code",
   "execution_count": null,
   "id": "51d13086-407f-4635-bb93-28bb7102ae00",
   "metadata": {},
   "outputs": [],
   "source": []
  }
 ],
 "metadata": {
  "kernelspec": {
   "display_name": "Python 3 (ipykernel)",
   "language": "python",
   "name": "python3"
  },
  "language_info": {
   "codemirror_mode": {
    "name": "ipython",
    "version": 3
   },
   "file_extension": ".py",
   "mimetype": "text/x-python",
   "name": "python",
   "nbconvert_exporter": "python",
   "pygments_lexer": "ipython3",
   "version": "3.9.12"
  }
 },
 "nbformat": 4,
 "nbformat_minor": 5
}
