{
 "cells": [
  {
   "cell_type": "markdown",
   "id": "fiscal-knitting",
   "metadata": {
    "tags": []
   },
   "source": [
    "# MIS 501 Python Football Analysis Project\n",
    "In this project you will use the skills and concepts we discussed this semester to ingest, manipulate, analyze, and report data using Python.\n",
    "\n",
    "Some of the more helpful concepts could use to complete this notebook:\n",
    "* basic syntax, len() function, variables\n",
    "* conditionals\n",
    "* looping\n",
    "* data structures: lists, dictionaries, and sets\n",
    "* pandas\n",
    "* regex - this is helpful to get text patterns\n",
    "* JSON - reading and writing JSON files\n",
    "* Pathlib for accessing the files\n",
    "\n",
    "You have been provided a set of JSON files describing footbal games from the 2017 season. The files may or may not include all the games from that season. If a statistic in the provided data conflicts with *actual* real world data, the correct answer is in the *provided* data. \n",
    "\n",
    "Use only the JSON files contained in the 'Full' folders (not 'Flattended').\n",
    "\n",
    "The objective of this project is to answer the set of questions below. The output of your project is a JSON file containing the question (key) and the answer (value). The keys must be in the format qn and the answer is a value appropriate for the question.\n",
    "\n",
    "The 'season' includes all games provided (including bowl games)."
   ]
  },
  {
   "cell_type": "code",
   "execution_count": 1,
   "id": "758be41c-c118-46d2-89d4-d58a7c229dc0",
   "metadata": {},
   "outputs": [],
   "source": [
    "import pathlib\n",
    "import json\n",
    "import pprint as pp\n",
    "import pandas as pd\n",
    "import webbrowser as wb\n",
    "import numpy as np\n",
    "import collections as cl"
   ]
  },
  {
   "cell_type": "code",
   "execution_count": 2,
   "id": "earlier-strengthening",
   "metadata": {},
   "outputs": [],
   "source": [
    "# Example of how to answer a question\n",
    "answer_file = {} # create blank dictionary"
   ]
  },
  {
   "cell_type": "markdown",
   "id": "tender-climate",
   "metadata": {},
   "source": [
    "> You must name the file 'mis501_football_part1_*netid*.json', for example, mis501_football_part1_gjbott.json."
   ]
  },
  {
   "cell_type": "code",
   "execution_count": 3,
   "id": "98a5136d-7262-425e-ac84-667b8db4cca4",
   "metadata": {},
   "outputs": [],
   "source": [
    "data_filepath = pathlib.Path(r'2017 Alabama football JSON')\n",
    "\n",
    "#wrap rglob in a list to eliminate it being a generator\n",
    "all_files = list(data_filepath.rglob(r'**\\full\\*.json'))\n",
    "\n",
    "all_files_list = []\n",
    "#append all games into a list\n",
    "for file in all_files:\n",
    "    all_files_list.append(file.name)\n",
    "    \n",
    "data_dict = {}\n",
    "#loading each game_file into a dictionary to be used in future questions\n",
    "for game_file in all_files:\n",
    "    with open(game_file, 'r') as fin:\n",
    "        data_dict[game_file.name] = json.load(fin)"
   ]
  },
  {
   "cell_type": "markdown",
   "id": "917301f3-2e46-4470-a77e-286e9a2180e4",
   "metadata": {
    "tags": []
   },
   "source": [
    "## Question 1 \n",
    "Explain steps that you took to ensure the data was of good quality. What errors or issues did you find in the data?"
   ]
  },
  {
   "cell_type": "code",
   "execution_count": 4,
   "id": "c8cacf57-31ef-4082-8aca-0043e809a5e3",
   "metadata": {},
   "outputs": [
    {
     "data": {
      "text/plain": [
       "'I needed to use rglob to just grab the files within the full directory and not the flatten directory. \\n Because this is a generator, I needed to wrap these files into a list. \\n We did not see problems with the data until working on question 6. I began with indexing through scoringPlays, however the Texas St. vs Georgia St. game in week 11 does not have that as a key.\\n I made a copied dictionary of games without this specific game to bypass it. This brought another problem as two-point conversions were considered a \"safety\" as a scoringPlay.\\n So I then had to index through the drives and grab the driveResult. That was able to work. \\n In question 9, we filter through plays to find 19 plays that were 100 yards. One of these results has a penalty for 10907 yards (not possible) and another result recorded 102 yards gained, again not possible.\\n So I made the filter = to 100 to eliminate this results.\\n Finally, for question 12 I found that the shortest pass reception was -66 which seems unrealistic. After finding that json file and comparing it to the ESPN gamecast for that game, I assume this is a data entry error. \\n The second and third shortest pass receptions seem uncommon but not unrealistic so I can assume they are possible.'"
      ]
     },
     "execution_count": 4,
     "metadata": {},
     "output_type": "execute_result"
    }
   ],
   "source": [
    "text_q1 = \"\"\"I needed to use rglob to just grab the files within the full directory and not the flatten directory. \n",
    " Because this is a generator, I needed to wrap these files into a list. \n",
    " We did not see problems with the data until working on question 6. I began with indexing through scoringPlays, however the Texas St. vs Georgia St. game in week 11 does not have that as a key.\n",
    " I made a copied dictionary of games without this specific game to bypass it. This brought another problem as two-point conversions were considered a \"safety\" as a scoringPlay.\n",
    " So I then had to index through the drives and grab the driveResult. That was able to work. \n",
    " In question 9, we filter through plays to find 19 plays that were 100 yards. One of these results has a penalty for 10907 yards (not possible) and another result recorded 102 yards gained, again not possible.\n",
    " So I made the filter = to 100 to eliminate this results.\n",
    " Finally, for question 12 I found that the shortest pass reception was -66 which seems unrealistic. After finding that json file and comparing it to the ESPN gamecast for that game, I assume this is a data entry error. \n",
    " The second and third shortest pass receptions seem uncommon but not unrealistic so I can assume they are possible.\"\"\"\n",
    "        \n",
    "            \n",
    "answer_file['q1'] = text_q1\n",
    "answer_file['q1']"
   ]
  },
  {
   "cell_type": "markdown",
   "id": "differential-treat",
   "metadata": {},
   "source": [
    "## Question 2\n",
    "How many games are in the data set?"
   ]
  },
  {
   "cell_type": "code",
   "execution_count": 5,
   "id": "00248375-4542-44b2-97ad-704a81155019",
   "metadata": {},
   "outputs": [],
   "source": [
    "#Taking the length of the game list will give us the total games in the data set\n",
    "games_q2 = len(all_files_list)\n",
    "answer_file['q2'] = games_q2"
   ]
  },
  {
   "cell_type": "markdown",
   "id": "racial-vessel",
   "metadata": {},
   "source": [
    "## Question 3\n",
    "What are topmost keys in the JSON file provided for this assignment?"
   ]
  },
  {
   "cell_type": "code",
   "execution_count": 6,
   "id": "df81454f-88e6-4dda-b23e-e965ff5f7efa",
   "metadata": {},
   "outputs": [],
   "source": [
    "#Using one game_file, we can check the keys for the majority of game_files\n",
    "#As I worked through each question, I realized some game_files have certain keys missing\n",
    "keys_q3 = data_dict['400953322 - North Texas vs Troy.json'].keys()\n",
    "answer_file['q3'] = list(keys_q3)"
   ]
  },
  {
   "cell_type": "markdown",
   "id": "direct-option",
   "metadata": {},
   "source": [
    "## Question 4\n",
    "Provide a Python list of all the teams represented in the files, sorted alphabetically."
   ]
  },
  {
   "cell_type": "code",
   "execution_count": 7,
   "id": "37122c6b-84e5-403a-a114-47883d7ce24a",
   "metadata": {
    "tags": []
   },
   "outputs": [],
   "source": [
    "all_teams_list = []\n",
    "\n",
    "#we need to loop through each games values to find the home and away teams for each\n",
    "for game in data_dict.values():\n",
    "    \n",
    "#we index from each game several times to find the unique displayName\n",
    "    home_team = game['teams'][0]['team']['displayName']\n",
    "    away_team = game['teams'][1]['team']['displayName']\n",
    "    \n",
    "#By using if we can pass each team that is already inside the list of teams\n",
    "    if home_team in all_teams_list:\n",
    "        pass\n",
    "    else:\n",
    "        all_teams_list.append(home_team)\n",
    "    \n",
    "    if away_team in all_teams_list:\n",
    "        pass\n",
    "    else:\n",
    "        all_teams_list.append(away_team)\n",
    "\n",
    "total_teams_q4 = sorted(all_teams_list)\n",
    "answer_file['q4'] = total_teams_q4"
   ]
  },
  {
   "cell_type": "markdown",
   "id": "third-catch",
   "metadata": {
    "tags": []
   },
   "source": [
    "## Question 5\n",
    "How many unique teams are represented in the data?"
   ]
  },
  {
   "cell_type": "code",
   "execution_count": 8,
   "id": "cfb5d7f3-2e46-4fec-b7b0-128d66adb592",
   "metadata": {},
   "outputs": [],
   "source": [
    "#By finding the length of the teams list we can output the total unique teams\n",
    "answer_file['q5'] = len(all_teams_list)"
   ]
  },
  {
   "cell_type": "markdown",
   "id": "undefined-flash",
   "metadata": {},
   "source": [
    "## Question 6\n",
    "A *saftey* in football refers to when the offensive player who has possession of the football is tackled or willingly downs the ball in their end zone. Two points are awared to the defensive team. The offensive team loses possesion of the ball.\n",
    "\n",
    "In how many games did a safety occur?"
   ]
  },
  {
   "cell_type": "code",
   "execution_count": 9,
   "id": "d4cb17b4-23a4-46eb-8397-5a33a3ce5b32",
   "metadata": {},
   "outputs": [],
   "source": [
    "#List to store each unique safety within a game\n",
    "safety_list = []\n",
    "\n",
    "#List to store each team that forced a safety\n",
    "total_safeties = []\n",
    "\n",
    "#List to store each team that gave up a safety\n",
    "gave_up_safety = []\n",
    "\n",
    "\n",
    "#We loop through games but also have to loop through each drive to find the drive result that ended with a safety\n",
    "for game in data_dict.values():\n",
    "    for drive in game['drives']['previous'][:]:\n",
    "        if drive.get('displayResult') == 'Safety':\n",
    "            \n",
    "            home_team = game['teams'][0]['team']['displayName']\n",
    "            away_team = game['teams'][1]['team']['displayName']\n",
    "            \n",
    "#after storing each team into a variable, we can check to see which team had the ball on that drive and either store the teams into the forced or gave up safety lists\n",
    "            if drive['team']['displayName'] == home_team:\n",
    "                team_scored = away_team\n",
    "                gave_up_safety.append(home_team)\n",
    "            else:\n",
    "                team_scored = home_team\n",
    "                gave_up_safety.append(away_team)\n",
    "            \n",
    "#By using an f string, we can store each the matchup and forced safety team to check if more than one safety happened in a single game\n",
    "            safety = f'{away_team} @ {home_team} - {team_scored}'\n",
    "           \n",
    "            \n",
    "            safety_list.append(safety)\n",
    "            total_safeties.append(team_scored)\n",
    "            \n",
    "#By wrapping the list of games with a safety into a set and taking the length we can find the total games with a safety\n",
    "#If not, we would have an ouput of 2 values higher because 2 games had multiple safeties\n",
    "games_with_safety = len(set(safety_list))\n",
    "answer_file['q6'] = games_with_safety"
   ]
  },
  {
   "cell_type": "markdown",
   "id": "active-cleanup",
   "metadata": {},
   "source": [
    "## Question 7\n",
    "Which teams scored the most safeties?"
   ]
  },
  {
   "cell_type": "code",
   "execution_count": 10,
   "id": "5e9fc8a0-ee1f-4525-89e8-76fee335e4b6",
   "metadata": {},
   "outputs": [],
   "source": [
    "#Using the collections application we can count the total safeties for each team and sort them in descending order\n",
    "teams_scored_safety = cl.Counter(total_safeties).most_common()\n",
    "\n",
    "#Indexing the first 5 teams gives us the teams with the most safeties\n",
    "top_scored_safety_teams =teams_scored_safety[0:5]\n",
    "\n",
    "answer_file['q7'] = top_scored_safety_teams"
   ]
  },
  {
   "cell_type": "markdown",
   "id": "devoted-picnic",
   "metadata": {},
   "source": [
    "## Question 8\n",
    "Which teams gave up the most safeties?"
   ]
  },
  {
   "cell_type": "code",
   "execution_count": 11,
   "id": "5b96f707-4290-41a1-be2b-85af2e5e895b",
   "metadata": {},
   "outputs": [],
   "source": [
    "#Using the collections application we can count the total safeties for each team and sort them in descending order\n",
    "teams_gave_up_safety = cl.Counter(gave_up_safety).most_common()\n",
    "\n",
    "#Indexing the first 4 teams gives us the teams with the most safeties\n",
    "top_teams_gave_up_safety = teams_gave_up_safety[0:4]\n",
    "\n",
    "answer_file['q8'] = top_teams_gave_up_safety"
   ]
  },
  {
   "cell_type": "markdown",
   "id": "fabulous-vertical",
   "metadata": {
    "tags": []
   },
   "source": [
    "## Question 9\n",
    "Find the longest play for the 2017 season. (Ex. a 99 yard interception return) If there are several\n",
    "of the same length, show them all. Show team matchup, quarter, clocktime, and play text for each of the plays."
   ]
  },
  {
   "cell_type": "code",
   "execution_count": 12,
   "id": "9406a44b-f3b6-497b-8c03-64bbcf56598f",
   "metadata": {},
   "outputs": [],
   "source": [
    "longest_plays = {}\n",
    "\n",
    "#We loop through games but also have to loop through each drive and then again through each play to find the ones that had 100 yards gained\n",
    "#100 yards is assumed to be the maximum one play can attribute\n",
    "for game in data_dict.values():\n",
    "    for drive in game['drives']['previous'][:]:\n",
    "        for play in drive['plays'][:]:\n",
    "            if play['statYardage'] == 100:\n",
    "                \n",
    "                yards_gained = play['statYardage']\n",
    "                home_team = game['teams'][0]['team']['displayName']\n",
    "                away_team = game['teams'][1]['team']['displayName']\n",
    "                matchup = f'{away_team} @ {home_team}'\n",
    "                quarter = play['period']['number']\n",
    "                clocktime = play['clock']['displayValue']\n",
    "                play_text = play['text']\n",
    "\n",
    "#Each play value that we found is stored within a key for the game it was in and then added to longest_play dictionary\n",
    "                each_play = {\n",
    "                    'yards_gained': yards_gained,\n",
    "                    'quarter': quarter,\n",
    "                    'clocktime': clocktime,\n",
    "                    'play_text': play_text,\n",
    "                }\n",
    "                \n",
    "                if matchup in longest_plays:\n",
    "                    longest_plays[matchup].append(each_play)\n",
    "                else:\n",
    "                    longest_plays[matchup] = [each_play]\n",
    "                \n",
    "                \n",
    "answer_file['q9'] = longest_plays\n"
   ]
  },
  {
   "cell_type": "markdown",
   "id": "italian-liberal",
   "metadata": {},
   "source": [
    "## Question 10\n",
    "How long were Alabama's FIRST and LAST offensive plays of the season? Show the date, opponent, yards gained/lost on the play, and provide the description of the play."
   ]
  },
  {
   "cell_type": "code",
   "execution_count": 13,
   "id": "2190d2eb-8063-4872-a1e6-adaf26e21db7",
   "metadata": {},
   "outputs": [],
   "source": [
    "bama_first_and_last_play = {}\n",
    "\n",
    "#I found the first game_file for Alabama in Week 1 and indexed the date, opponent, yards, and text of the first play\n",
    "fdate = data_dict['400933827 - Alabama vs Florida State.json']['competitions'][0]['date']\n",
    "fopponent = data_dict['400933827 - Alabama vs Florida State.json']['teams'][1]['team']['displayName']\n",
    "fyards = data_dict['400933827 - Alabama vs Florida State.json']['drives']['previous'][0]['plays'][1]['statYardage']\n",
    "fdescription = data_dict['400933827 - Alabama vs Florida State.json']['drives']['previous'][0]['plays'][1]['text']                                                                   \n",
    "\n",
    "#Added these values under the \"FIRST\" key in a dictionary\n",
    "bama_first_and_last_play['FIRST'] = {'date': fdate, 'opponent': fopponent, 'yards': f'{fyards} gained', 'description': fdescription}\n",
    "\n",
    "#I found the last game_file for Alabama in Bowls and indexed the date, opponent, yards, and text of the last play\n",
    "ldate = data_dict['400953415 - Georgia vs Alabama.json']['competitions'][0]['date']\n",
    "lopponent = data_dict['400953415 - Georgia vs Alabama.json']['teams'][1]['team']['displayName']\n",
    "lyards = data_dict['400953415 - Georgia vs Alabama.json']['drives']['previous'][28]['plays'][1]['statYardage']\n",
    "ldescription = data_dict['400953415 - Georgia vs Alabama.json']['drives']['previous'][28]['plays'][1]['text']  \n",
    "\n",
    "#Added these values under the \"LAST\" key in a dictionary\n",
    "bama_first_and_last_play['LAST'] = {'date': ldate, 'opponent': lopponent, 'yards': f'{lyards} gained', 'description': ldescription}\n",
    "\n",
    "answer_file['q10'] = bama_first_and_last_play\n",
    "\n",
    "\n",
    "            "
   ]
  },
  {
   "cell_type": "markdown",
   "id": "painted-ceiling",
   "metadata": {
    "tags": []
   },
   "source": [
    "## Question 11\n",
    "How many times did Alabama punt all season?"
   ]
  },
  {
   "cell_type": "code",
   "execution_count": 14,
   "id": "d1cf2751-f114-4f61-88b1-62e30ed08be1",
   "metadata": {},
   "outputs": [],
   "source": [
    "season_punts = []\n",
    "\n",
    "#We can loop through each game and drive to find the results where Alabama punted in each drive of the season\n",
    "for game in data_dict.values():\n",
    "    for drive in game['drives']['previous'][:]:\n",
    "        if drive.get('displayResult') == 'Punt':\n",
    "            if drive['team']['displayName'] == 'Alabama Crimson Tide':\n",
    "                \n",
    "#We can store each punt by the week it happened to make sure we have reasonable numbers in a list\n",
    "                punt = drive['displayResult']\n",
    "                week = game['week']\n",
    "                play_punt = f'{week} - {punt}'\n",
    "                \n",
    "                season_punts.append(play_punt)\n",
    "\n",
    "answer_file['q11'] = len(season_punts)"
   ]
  },
  {
   "cell_type": "markdown",
   "id": "differential-circulation",
   "metadata": {
    "tags": []
   },
   "source": [
    "## Question 12\n",
    "What as the longest, shortest, and median pass distance? Provide the labels (longest, shortest, and median) as a dict in your answer."
   ]
  },
  {
   "cell_type": "code",
   "execution_count": 15,
   "id": "519a5638-9b1b-42e9-82d1-3cfa1808fe43",
   "metadata": {},
   "outputs": [],
   "source": [
    "pass_distance = {}\n",
    "pass_play_yardages = []\n",
    "\n",
    "#We can loop through each play in each drive of every game to find where the type of play was a \"Pass Reception\"\n",
    "for game in data_dict.values():\n",
    "    for drive in game['drives']['previous'][:]:\n",
    "        for play in drive['plays'][:]:\n",
    "\n",
    "#We need to add a .get function here to skip the game_files that do not have a key for \"type\" of play\n",
    "            if play.get('type') == None:\n",
    "                pass\n",
    "            else:\n",
    "                if play['type']['text'] == 'Pass Reception':\n",
    "\n",
    "#I stored each reception into a list using the \"statYardage\" value\n",
    "                    yards = play['statYardage']\n",
    "\n",
    "                    pass_play_yardages.append(yards)\n",
    "\n",
    "#We can take this list and use numpy to find the max, min, and median of the list\n",
    "longest = int(np.max(pass_play_yardages))\n",
    "shortest = int(np.min(pass_play_yardages))\n",
    "median = int(np.median(pass_play_yardages))\n",
    "\n",
    "#The variables above give us the longest, shortest and median pass distance\n",
    "pass_distance['longest'] = longest\n",
    "pass_distance['shortest'] = shortest\n",
    "pass_distance['median'] = median\n",
    "\n",
    "answer_file['q12'] = pass_distance\n"
   ]
  },
  {
   "cell_type": "code",
   "execution_count": 16,
   "id": "1a2f75f7-6bb7-41dc-91df-94e5667113b9",
   "metadata": {},
   "outputs": [
    {
     "data": {
      "text/plain": [
       "[-66, -17, -14, -14, -14, -14, -14, -13, -13, -13]"
      ]
     },
     "execution_count": 16,
     "metadata": {},
     "output_type": "execute_result"
    }
   ],
   "source": [
    "#I have left this here to show how much of an outlier our shortest pass is\n",
    "#After scanning ESPN and the game's json file, it can be assumed this was a data entry error\n",
    "sorted_plays = sorted(pass_play_yardages)\n",
    "sorted_plays[0:10]"
   ]
  },
  {
   "cell_type": "markdown",
   "id": "lovely-david",
   "metadata": {
    "tags": []
   },
   "source": [
    "## Bonus (5 points)\n",
    "Locate and play a video highlight from one of the games."
   ]
  },
  {
   "cell_type": "code",
   "execution_count": 19,
   "id": "b6aceded-0d1e-438d-b7df-fa094816cf4d",
   "metadata": {},
   "outputs": [],
   "source": [
    "#We can index within a specific game and find the url to the video\n",
    "video = data_dict['400953322 - North Texas vs Troy.json']['videos'][1]['links']['web']['href']\n",
    "\n",
    "#Using webbrowser we can use the open function to play the url video\n",
    "\n",
    "answer_file['Bonus'] = wb.open(video)"
   ]
  },
  {
   "cell_type": "markdown",
   "id": "9a1b21ab-5a1b-46e9-a8e5-09294273b1ad",
   "metadata": {},
   "source": [
    "## JSON File \n",
    "Dump answer dictionary into a json file."
   ]
  },
  {
   "cell_type": "code",
   "execution_count": 21,
   "id": "d6cd2516-bbb8-45e0-961f-16f7b24f6e76",
   "metadata": {},
   "outputs": [],
   "source": [
    "with open(r'mis501_football_part1_sawalker.json', 'w') as fout:\n",
    "    json.dump(answer_file, fout)"
   ]
  }
 ],
 "metadata": {
  "kernelspec": {
   "display_name": "Python 3 (ipykernel)",
   "language": "python",
   "name": "python3"
  },
  "language_info": {
   "codemirror_mode": {
    "name": "ipython",
    "version": 3
   },
   "file_extension": ".py",
   "mimetype": "text/x-python",
   "name": "python",
   "nbconvert_exporter": "python",
   "pygments_lexer": "ipython3",
   "version": "3.9.12"
  },
  "toc-autonumbering": false
 },
 "nbformat": 4,
 "nbformat_minor": 5
}
