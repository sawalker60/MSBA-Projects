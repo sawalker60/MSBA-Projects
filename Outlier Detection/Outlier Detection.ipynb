{
 "cells": [
  {
   "cell_type": "markdown",
   "id": "468a4408-0ef7-4875-ab4d-90f64926837d",
   "metadata": {
    "tags": []
   },
   "source": [
    "# Outlier Detection"
   ]
  },
  {
   "cell_type": "code",
   "execution_count": null,
   "id": "20842e66-b108-4032-ba26-80e23184b180",
   "metadata": {},
   "outputs": [],
   "source": [
    "#Importing useful modules\n",
    "\n",
    "import pandas as pd\n",
    "from scipy.stats import zscore\n",
    "import warnings\n",
    "from pandas.core.common import SettingWithCopyWarning\n",
    "warnings.simplefilter(action='ignore', category=SettingWithCopyWarning)"
   ]
  },
  {
   "cell_type": "markdown",
   "id": "c468ef25-78fd-412f-bfbb-56310df9f0a3",
   "metadata": {},
   "source": [
    "## Loading and Cleaning Data"
   ]
  },
  {
   "cell_type": "code",
   "execution_count": null,
   "id": "7e204851-cc49-4cd1-ae67-172be7e97133",
   "metadata": {},
   "outputs": [],
   "source": [
    "# Reading and cleaning data\n",
    "df = pd.read_excel('Dataset.xlsx')\n",
    "\n",
    "new_columns = []\n",
    "for col in df.columns:\n",
    "    new_columns.append(col.replace(' ', '_').lower())\n",
    "df.columns = new_columns\n",
    "df = df.drop(columns=['quantity','day_supply','drug_ndc','pharmacy_id'])\n",
    "num_claims = df.groupby('member_number')['claim_id'].count().reset_index()\n",
    "df = df.merge(num_claims, on='member_number').rename(columns={'claim_id_y':'num_claims', 'claim_id_x':'claim_id'})\n",
    "\n",
    "print(f'Shape of the dataset is {df.shape}')\n",
    "df.head()"
   ]
  },
  {
   "cell_type": "markdown",
   "id": "64561f34-0c02-47b2-83bf-a355ad42820e",
   "metadata": {
    "tags": []
   },
   "source": [
    "## Functions to check outliers\n",
    "\n",
    "I created 3 different functions that needs Drug Class and one of the 3 costs and will return the maximum zscore within that sub-distribution if it is greater than 3 standard deviations from the mean. It will also return a dataframe of the potential outlier claims."
   ]
  },
  {
   "cell_type": "code",
   "execution_count": null,
   "id": "7ddecbec-780e-4947-a49d-ec93f3b782ac",
   "metadata": {},
   "outputs": [],
   "source": [
    "# Function to check for outliers within Drug Class\n",
    "def check_outliers_class(type_class, cost):\n",
    "\n",
    "    test = df[df['drug_class'] == type_class]\n",
    "    x = test[cost].values.reshape(-1,1)\n",
    "    test['gc_outlier'] = abs(zscore(x))\n",
    "    \n",
    "    if test[\"gc_outlier\"].max() > 3:\n",
    "        print(f'{type_class}: \\tMax score {test[\"gc_outlier\"].max()}')\n",
    "    \n",
    "    num = len(test[test['gc_outlier'] > 3])\n",
    "    outliers = test[test['gc_outlier'] > 3]\n",
    "\n",
    "    return outliers"
   ]
  },
  {
   "cell_type": "code",
   "execution_count": null,
   "id": "686bbc69-555c-474e-8558-13d1123f38fc",
   "metadata": {},
   "outputs": [],
   "source": [
    "# Function to check for outliers within Drug Name\n",
    "def check_outliers_drug(type_drug, cost):\n",
    "\n",
    "    test = df[df['drug_name'] == type_drug]\n",
    "    x = test[cost].values.reshape(-1,1)\n",
    "    test['gc_outlier'] = abs(zscore(x))\n",
    "    \n",
    "    if test[\"gc_outlier\"].max() > 3:\n",
    "        print(f'{type_drug}: \\tMax score {test[\"gc_outlier\"].max()}')\n",
    "    \n",
    "    num = len(test[test['gc_outlier'] > 3])\n",
    "    outliers = test[test['gc_outlier'] > 3]\n",
    "\n",
    "    return outliers"
   ]
  },
  {
   "cell_type": "code",
   "execution_count": null,
   "id": "458570cd-e6f7-4060-a7f1-257564cf864d",
   "metadata": {},
   "outputs": [],
   "source": [
    "# Function to check for outliers within Pharmacy Name\n",
    "def check_outliers_pharm(type_pharm, cost):\n",
    "\n",
    "    test = df[df['pharmacy_name'] == type_pharm]\n",
    "    x = test[cost].values.reshape(-1,1)\n",
    "    test['gc_outlier'] = abs(zscore(x))\n",
    "    \n",
    "    if test[\"gc_outlier\"].max() > 3:\n",
    "        print(f'{type_pharm}: \\tMax score {test[\"gc_outlier\"].max()}')\n",
    "    \n",
    "    num = len(test[test['gc_outlier'] > 3])\n",
    "    outliers = test[test['gc_outlier'] > 3]\n",
    "\n",
    "    return outliers"
   ]
  },
  {
   "cell_type": "markdown",
   "id": "f779da9e-ad53-47f5-bc4f-c3e753f9fdb7",
   "metadata": {
    "tags": []
   },
   "source": [
    "## Checking for outliers within Class\n",
    "\n",
    "First, I will look for outliers within groups of the data. The first group is the Drug Class.\n",
    "\n",
    "Found 8 total outliers within this group."
   ]
  },
  {
   "cell_type": "code",
   "execution_count": null,
   "id": "48551c9f-7bb9-4dfd-96fc-f73ec1950feb",
   "metadata": {},
   "outputs": [],
   "source": [
    "#List of Drug Class values\n",
    "drug_class_list = list(df.drug_class.unique())\n",
    "\n",
    "#Loop that goes through the list of classes checking for outliers within group for Plan Cost\n",
    "print('Based on Plan Cost')\n",
    "for x in drug_class_list:\n",
    "    test=x\n",
    "    cost='plan_cost'\n",
    "    check_outliers_class(test, cost)\n",
    "\n",
    "#Loop that goes through the list of classes checking for outliers within group for Member Cost\n",
    "print('\\nBased on Member Cost')\n",
    "for x in drug_class_list:\n",
    "    test=x\n",
    "    cost='member_cost'\n",
    "    check_outliers_class(test, cost)\n",
    "\n",
    "#Loop that goes through the list of classes checking for outliers within group for Gross Cost\n",
    "print('\\nBased on Gross Cost')\n",
    "for x in drug_class_list:\n",
    "    test=x\n",
    "    cost='gross_cost'\n",
    "    check_outliers_class(test, cost)"
   ]
  },
  {
   "cell_type": "markdown",
   "id": "7264eb86-d5fa-4d24-bb9f-900734eb1e2a",
   "metadata": {
    "jp-MarkdownHeadingCollapsed": true,
    "tags": []
   },
   "source": [
    "### Gross Cost\n",
    "\n",
    "For drug classes, only two classes have outliers within their distribution.\n",
    "In the Cancer class I found 2 outliers and within the Pain Management class I found 6 outliers.\n",
    "\n",
    "It would be interesting to possibly look more into these 6 outliers for Pain Management"
   ]
  },
  {
   "cell_type": "code",
   "execution_count": null,
   "id": "66ccf5d4-1fd5-4da7-be32-25c717ebcfa5",
   "metadata": {},
   "outputs": [],
   "source": [
    "class_outlier1 = 'CANCER'\n",
    "class_outlier2 = 'PAIN MANAGEMENT'"
   ]
  },
  {
   "cell_type": "code",
   "execution_count": null,
   "id": "841a2585-a14b-411b-ba01-a1dc97eb7e9a",
   "metadata": {},
   "outputs": [],
   "source": [
    "check_outliers_class(class_outlier1, 'gross_cost')"
   ]
  },
  {
   "cell_type": "code",
   "execution_count": null,
   "id": "497f1bfe-2718-4a0d-bbe0-ebe7a8ee5331",
   "metadata": {},
   "outputs": [],
   "source": [
    "check_outliers_class(class_outlier2, 'gross_cost')"
   ]
  },
  {
   "cell_type": "markdown",
   "id": "5ba1f5eb-e0eb-4d80-ae18-0003e88da333",
   "metadata": {
    "jp-MarkdownHeadingCollapsed": true,
    "tags": []
   },
   "source": [
    "### Plan Cost\n",
    "\n",
    "Looking through classes based of plan cost, the same claims were detected as outliers (2 from Cancer class and 5 from Pain Management)."
   ]
  },
  {
   "cell_type": "markdown",
   "id": "a5d9e21c-2876-407d-845b-9d95b8666d6a",
   "metadata": {},
   "source": [
    "There were no outliers found based on the member cost for each class. "
   ]
  },
  {
   "cell_type": "code",
   "execution_count": null,
   "id": "f279c671-f415-49e2-a436-9214967a6c92",
   "metadata": {},
   "outputs": [],
   "source": [
    "class_outlier1 = 'CANCER'\n",
    "class_outlier2 = 'PAIN MANAGEMENT'"
   ]
  },
  {
   "cell_type": "code",
   "execution_count": null,
   "id": "79d55a7e-4500-447f-bc84-999c01cc247d",
   "metadata": {},
   "outputs": [],
   "source": [
    "check_outliers_class(class_outlier1, 'plan_cost')"
   ]
  },
  {
   "cell_type": "code",
   "execution_count": null,
   "id": "3b8d593c-b577-4dcb-bb92-f9544ab9b660",
   "metadata": {},
   "outputs": [],
   "source": [
    "check_outliers_class(class_outlier2, 'plan_cost')"
   ]
  },
  {
   "cell_type": "markdown",
   "id": "0f2b0f4e-f568-4b48-843c-f63ddd74a18d",
   "metadata": {
    "tags": []
   },
   "source": [
    "## Checking for outliers within drug\n",
    "\n",
    "Now I will look at each drug by the different costs.\n",
    "\n",
    "Found 6 total outliers within this group"
   ]
  },
  {
   "cell_type": "code",
   "execution_count": null,
   "id": "1b63f3d7-3373-4d60-81a7-cac62007112b",
   "metadata": {},
   "outputs": [],
   "source": [
    "#List of Drug Name values\n",
    "drug_list = list(df.drug_name.unique())\n",
    "\n",
    "#Loop that goes through the list of classes checking for outliers within group for Plan Cost\n",
    "print('Based on Plan Cost')\n",
    "for x in drug_list:\n",
    "    test=x\n",
    "    cost='plan_cost'\n",
    "    check_outliers_drug(test, cost)\n",
    "\n",
    "#Loop that goes through the list of classes checking for outliers within group for Member Cost\n",
    "print('\\nBased on Member Cost')\n",
    "for x in drug_list:\n",
    "    test=x\n",
    "    cost='member_cost'\n",
    "    check_outliers_drug(test, cost)\n",
    "\n",
    "#Loop that goes through the list of classes checking for outliers within group for Gross Cost\n",
    "print('\\nBased on Gross Cost')\n",
    "for x in drug_list:\n",
    "    test=x\n",
    "    cost='gross_cost'\n",
    "    check_outliers_drug(test, cost)"
   ]
  },
  {
   "cell_type": "markdown",
   "id": "23138e03-71fd-4255-9907-6ef18cd9ec4a",
   "metadata": {
    "jp-MarkdownHeadingCollapsed": true,
    "tags": []
   },
   "source": [
    "### Member Cost\n",
    "\n",
    "There was 1 outlier within Cancer Drug 1 claims. For Cancer Drug 4, there were 2 outliers."
   ]
  },
  {
   "cell_type": "code",
   "execution_count": null,
   "id": "82ccaff4-14ca-4a33-a7bd-686ff4325a66",
   "metadata": {},
   "outputs": [],
   "source": [
    "drug_outlier1 = 'Cancer Drug 1'\n",
    "drug_outlier4 = 'Cancer Drug 4'"
   ]
  },
  {
   "cell_type": "code",
   "execution_count": null,
   "id": "7e8b39ba-670c-486d-aea3-71ec9cfbeffb",
   "metadata": {},
   "outputs": [],
   "source": [
    "check_outliers_drug(drug_outlier1, 'member_cost')"
   ]
  },
  {
   "cell_type": "code",
   "execution_count": null,
   "id": "778bc15d-2663-4f55-87db-caea848768df",
   "metadata": {},
   "outputs": [],
   "source": [
    "check_outliers_drug(drug_outlier4, 'member_cost')"
   ]
  },
  {
   "cell_type": "markdown",
   "id": "58270bc9-e0df-49cf-826e-9b32de944064",
   "metadata": {
    "jp-MarkdownHeadingCollapsed": true,
    "tags": []
   },
   "source": [
    "### Gross Cost\n",
    "\n",
    "Looking at the different drugs by gross cost, all 4 Cancer drugs had 1 claim that was flagged. 3 of the 4 claims have already been found from analysis above. "
   ]
  },
  {
   "cell_type": "code",
   "execution_count": null,
   "id": "44c79461-0b7c-440b-aab0-49423b610483",
   "metadata": {},
   "outputs": [],
   "source": [
    "drug_outlier1 = 'Cancer Drug 1'\n",
    "drug_outlier2 = 'Cancer Drug 2'\n",
    "drug_outlier3 = 'Cancer Drug 3'\n",
    "drug_outlier4 = 'Cancer Drug 4'"
   ]
  },
  {
   "cell_type": "code",
   "execution_count": null,
   "id": "402f5421-288d-4c08-83a6-98f16003b8d9",
   "metadata": {},
   "outputs": [],
   "source": [
    "check_outliers_drug(drug_outlier1, 'gross_cost')"
   ]
  },
  {
   "cell_type": "code",
   "execution_count": null,
   "id": "4013e646-c60b-4adf-bfd7-dfff12010e2a",
   "metadata": {},
   "outputs": [],
   "source": [
    "check_outliers_drug(drug_outlier2, 'gross_cost')"
   ]
  },
  {
   "cell_type": "code",
   "execution_count": null,
   "id": "96d1b024-623e-40e8-8d2e-00c4147096a9",
   "metadata": {},
   "outputs": [],
   "source": [
    "check_outliers_drug(drug_outlier3, 'gross_cost')"
   ]
  },
  {
   "cell_type": "code",
   "execution_count": null,
   "id": "9f6067e0-6b61-4346-ab4a-07789997e6f6",
   "metadata": {},
   "outputs": [],
   "source": [
    "check_outliers_drug(drug_outlier4, 'gross_cost')"
   ]
  },
  {
   "cell_type": "markdown",
   "id": "93cf98dc-bc49-46ca-86ad-7736480b0db7",
   "metadata": {
    "jp-MarkdownHeadingCollapsed": true,
    "tags": []
   },
   "source": [
    "### Plan Cost\n",
    "\n",
    "The same claims were flagged when looking at plan cost than what was just found looking at gross cost."
   ]
  },
  {
   "cell_type": "code",
   "execution_count": null,
   "id": "31f1db7a-2108-4dcd-b58f-9a6d550be8d1",
   "metadata": {},
   "outputs": [],
   "source": [
    "drug_outlier1 = 'Cancer Drug 1'\n",
    "drug_outlier2 = 'Cancer Drug 2'\n",
    "drug_outlier3 = 'Cancer Drug 3'\n",
    "drug_outlier4 = 'Cancer Drug 4'"
   ]
  },
  {
   "cell_type": "code",
   "execution_count": null,
   "id": "9ad89a31-d4ea-447e-842b-e9c919ea93cd",
   "metadata": {},
   "outputs": [],
   "source": [
    "check_outliers_drug(drug_outlier1, 'plan_cost')"
   ]
  },
  {
   "cell_type": "code",
   "execution_count": null,
   "id": "73021caa-db58-4cb7-967a-fc5b8b22c959",
   "metadata": {},
   "outputs": [],
   "source": [
    "check_outliers_drug(drug_outlier2, 'plan_cost')"
   ]
  },
  {
   "cell_type": "code",
   "execution_count": null,
   "id": "2ad4433a-6c93-4898-bf94-e2b299d9ce9e",
   "metadata": {},
   "outputs": [],
   "source": [
    "check_outliers_drug(drug_outlier3, 'plan_cost')"
   ]
  },
  {
   "cell_type": "code",
   "execution_count": null,
   "id": "cb44b41a-2d5a-4957-8834-a2aa31df7615",
   "metadata": {},
   "outputs": [],
   "source": [
    "check_outliers_drug(drug_outlier4, 'plan_cost')"
   ]
  },
  {
   "cell_type": "markdown",
   "id": "0da8f44d-537f-489d-ac36-8eeacb744b95",
   "metadata": {
    "tags": []
   },
   "source": [
    "## Checking for outliers within pharmacy\n",
    "\n",
    "Lastly, I will look through each pharmacy to search for unusual payments.\n",
    "\n",
    "I found 46 outliers within this group"
   ]
  },
  {
   "cell_type": "code",
   "execution_count": null,
   "id": "b8c47caa-98df-4bee-a7be-dc0e029f6a7e",
   "metadata": {},
   "outputs": [],
   "source": [
    "#List of Drug Name values\n",
    "pharmacy_list = list(df.pharmacy_name.unique())\n",
    "\n",
    "#Loop that goes through the list of classes checking for outliers within group for Plan Cost\n",
    "print('Based on Plan Cost')\n",
    "for x in pharmacy_list:\n",
    "    test=x\n",
    "    cost='plan_cost'\n",
    "    check_outliers_pharm(test, cost)\n",
    "\n",
    "#Loop that goes through the list of classes checking for outliers within group for Member Cost\n",
    "print('\\nBased on Member Cost')\n",
    "for x in pharmacy_list:\n",
    "    test=x\n",
    "    cost='member_cost'\n",
    "    check_outliers_pharm(test, cost)\n",
    "\n",
    "#Loop that goes through the list of classes checking for outliers within group for Gross Cost\n",
    "print('\\nBased on Gross Cost')\n",
    "for x in pharmacy_list:\n",
    "    test=x\n",
    "    cost='gross_cost'\n",
    "    check_outliers_pharm(test, cost)"
   ]
  },
  {
   "cell_type": "markdown",
   "id": "f9458448-4085-4b87-b24b-b97e81ca96d1",
   "metadata": {
    "jp-MarkdownHeadingCollapsed": true,
    "tags": []
   },
   "source": [
    "### Member Cost\n",
    "\n",
    "By member cost, I found 28 claims within 5 of the 6 pharmacy were possible outliers."
   ]
  },
  {
   "cell_type": "code",
   "execution_count": null,
   "id": "46a0f1d3-0223-4a92-94fc-c0ff8481bc7a",
   "metadata": {},
   "outputs": [],
   "source": [
    "pharm_outlier1 = 'CVS'\n",
    "pharm_outlier2 = 'UAB Pharmacy'\n",
    "pharm_outlier3 = 'WALMART'\n",
    "pharm_outlier4 = 'PUBLIX'\n",
    "pharm_outlier5 = 'WALGREENS'"
   ]
  },
  {
   "cell_type": "code",
   "execution_count": null,
   "id": "22560b74-0579-4e40-9290-4ce8364b6a52",
   "metadata": {},
   "outputs": [],
   "source": [
    "check_outliers_pharm(pharm_outlier1, 'member_cost')"
   ]
  },
  {
   "cell_type": "code",
   "execution_count": null,
   "id": "b9599122-305e-4849-9156-b0df4067c0c9",
   "metadata": {},
   "outputs": [],
   "source": [
    "check_outliers_pharm(pharm_outlier2, 'member_cost')"
   ]
  },
  {
   "cell_type": "code",
   "execution_count": null,
   "id": "1a596ec7-ca7d-4f1a-8e98-ba286f758394",
   "metadata": {},
   "outputs": [],
   "source": [
    "check_outliers_pharm(pharm_outlier3, 'member_cost')"
   ]
  },
  {
   "cell_type": "code",
   "execution_count": null,
   "id": "fdd347ab-6708-4a96-9c0c-6c9d81eb6045",
   "metadata": {},
   "outputs": [],
   "source": [
    "check_outliers_pharm(pharm_outlier4, 'member_cost')"
   ]
  },
  {
   "cell_type": "code",
   "execution_count": null,
   "id": "4db2996e-914e-443f-b6ef-b96e711b76e3",
   "metadata": {},
   "outputs": [],
   "source": [
    "check_outliers_pharm(pharm_outlier5, 'member_cost')"
   ]
  },
  {
   "cell_type": "markdown",
   "id": "2e07ee29-f610-4950-b901-1966fb8bc6ef",
   "metadata": {
    "jp-MarkdownHeadingCollapsed": true,
    "tags": []
   },
   "source": [
    "### Gross Cost\n",
    "\n",
    "By gross cost, I found 23 claims with each pharmacy having at least one outlier. There are a couple claims that were found in the analysis by member cost right before this. "
   ]
  },
  {
   "cell_type": "code",
   "execution_count": null,
   "id": "637c02a5-9299-43c5-bd45-2cd6fc316e8a",
   "metadata": {},
   "outputs": [],
   "source": [
    "pharm_outlier1 = 'CVS'\n",
    "pharm_outlier2 = 'UAB Pharmacy'\n",
    "pharm_outlier3 = 'RX 4 U'\n",
    "pharm_outlier4 = 'WALMART'\n",
    "pharm_outlier5 = 'PUBLIX'\n",
    "pharm_outlier6 = 'WALGREENS'"
   ]
  },
  {
   "cell_type": "code",
   "execution_count": null,
   "id": "a8dd6261-4cf0-4821-9269-b2d5aa93fa8a",
   "metadata": {},
   "outputs": [],
   "source": [
    "check_outliers_pharm(pharm_outlier1, 'gross_cost')"
   ]
  },
  {
   "cell_type": "code",
   "execution_count": null,
   "id": "e683d66e-c764-47c8-8dcb-f5f4013868d2",
   "metadata": {},
   "outputs": [],
   "source": [
    "check_outliers_pharm(pharm_outlier2, 'gross_cost')"
   ]
  },
  {
   "cell_type": "code",
   "execution_count": null,
   "id": "cb81acef-8c5a-45a6-a8e5-e9b73c879f40",
   "metadata": {},
   "outputs": [],
   "source": [
    "check_outliers_pharm(pharm_outlier3, 'gross_cost')"
   ]
  },
  {
   "cell_type": "code",
   "execution_count": null,
   "id": "a5041741-f415-4b80-bd62-81791287e04a",
   "metadata": {},
   "outputs": [],
   "source": [
    "check_outliers_pharm(pharm_outlier4, 'gross_cost')"
   ]
  },
  {
   "cell_type": "code",
   "execution_count": null,
   "id": "6b3eafbd-1854-461b-837d-822240470ffb",
   "metadata": {},
   "outputs": [],
   "source": [
    "check_outliers_pharm(pharm_outlier5, 'gross_cost')"
   ]
  },
  {
   "cell_type": "code",
   "execution_count": null,
   "id": "278b8a63-48b1-4edf-9d1b-014a04c1246e",
   "metadata": {},
   "outputs": [],
   "source": [
    "check_outliers_pharm(pharm_outlier6, 'gross_cost')"
   ]
  },
  {
   "cell_type": "markdown",
   "id": "afbc5b7f-0803-495b-a127-519b837a0074",
   "metadata": {
    "jp-MarkdownHeadingCollapsed": true,
    "tags": []
   },
   "source": [
    "### Plan Cost\n",
    "\n",
    "The last group found to have the same 23 claims flagged from that of gross cost. "
   ]
  },
  {
   "cell_type": "code",
   "execution_count": null,
   "id": "2b942ee5-d29a-4342-9451-ccf07af618a7",
   "metadata": {},
   "outputs": [],
   "source": [
    "pharm_outlier1 = 'CVS'\n",
    "pharm_outlier2 = 'UAB Pharmacy'\n",
    "pharm_outlier3 = 'RX 4 U'\n",
    "pharm_outlier4 = 'WALMART'\n",
    "pharm_outlier5 = 'PUBLIX'\n",
    "pharm_outlier6 = 'WALGREENS'"
   ]
  },
  {
   "cell_type": "code",
   "execution_count": null,
   "id": "645c9744-a9b6-4bba-8d4a-738869a20467",
   "metadata": {},
   "outputs": [],
   "source": [
    "check_outliers_pharm(pharm_outlier1, 'plan_cost')"
   ]
  },
  {
   "cell_type": "code",
   "execution_count": null,
   "id": "b34cc13b-ae99-4ce2-8aab-74fc08dfdbeb",
   "metadata": {},
   "outputs": [],
   "source": [
    "check_outliers_pharm(pharm_outlier2, 'plan_cost')"
   ]
  },
  {
   "cell_type": "code",
   "execution_count": null,
   "id": "edddb7a7-c589-4a9c-9b7b-08ced76ac432",
   "metadata": {},
   "outputs": [],
   "source": [
    "check_outliers_pharm(pharm_outlier3, 'plan_cost')"
   ]
  },
  {
   "cell_type": "code",
   "execution_count": null,
   "id": "8a8fa107-28a8-4417-803c-7578d60a0415",
   "metadata": {},
   "outputs": [],
   "source": [
    "check_outliers_pharm(pharm_outlier4, 'plan_cost')"
   ]
  },
  {
   "cell_type": "code",
   "execution_count": null,
   "id": "4ea0b22f-6aae-43df-8d2e-3568111819b2",
   "metadata": {},
   "outputs": [],
   "source": [
    "check_outliers_pharm(pharm_outlier5, 'plan_cost')"
   ]
  },
  {
   "cell_type": "code",
   "execution_count": null,
   "id": "06cd3c2e-e263-4ba6-9186-6481ff8c8a32",
   "metadata": {},
   "outputs": [],
   "source": [
    "check_outliers_pharm(pharm_outlier6, 'plan_cost')"
   ]
  },
  {
   "cell_type": "markdown",
   "id": "5481fe4f-ddd8-41f3-bde2-f39d7c00ecbc",
   "metadata": {
    "tags": []
   },
   "source": [
    "## Potential Outliers\n",
    "\n",
    "In total there are 57 claims (5.7%) that were flagged within the 3 groups analyzed from. Now I will look at the total distribution for each cost and find whether these 57 claims are also outliers of the entire distribution. I will continue to use gross, plan, and member cost. "
   ]
  },
  {
   "cell_type": "code",
   "execution_count": null,
   "id": "f4d41a6f-e032-47a0-ba90-7cf9c8c712f1",
   "metadata": {},
   "outputs": [],
   "source": [
    "po = [41,49,252,255,257,552,558,40,329,429,924,43,44,46,51,53,56,57,59,223,225,226,228,321,322,324,\n",
    "      327,328,420,422,425,426,428,520,522,524,621,623,624,625,628,720,722,820,822,825,827,829,921,\n",
    "      923,926,928,528,559,726,727,729]\n",
    "\n",
    "x = df['gross_cost'].values.reshape(-1,1)\n",
    "y = df['plan_cost'].values.reshape(-1,1)\n",
    "z = df['member_cost'].values.reshape(-1,1)\n",
    "df['gc_outlier'] = abs(zscore(x))\n",
    "df['pc_outlier'] = abs(zscore(y))\n",
    "df['mc_outlier'] = abs(zscore(z))\n",
    "\n",
    "df['member_prop'] = df['member_cost'] / df['gross_cost']\n",
    "\n",
    "outliers = df.loc[po]"
   ]
  },
  {
   "cell_type": "markdown",
   "id": "720af67d-e6a6-4ebe-9887-71190b806d60",
   "metadata": {},
   "source": [
    "After running this, our outlier list has been condensed to 29 claims. All 29 claims are under the drug class for Cancer and vary through all 4 cancer drugs and all 6 pharmacies. \n",
    "\n",
    "I would definitely take a deeper look at 3 specific claims as they were outliers to all 3 cost variables. These 3 claims had gross_cost values of 85,000, 60,000, and 30,000 US dollars, which are the highest 3 values by over two times the amount of the next largest. It is interesting that each claim happened once each month and were all received from RX 4 U. "
   ]
  },
  {
   "cell_type": "markdown",
   "id": "bcb0f2b6-81cd-4124-9f8d-9770a95ba002",
   "metadata": {},
   "source": [
    "The other 26 claims were found to be unusual in regards to member cost. This looks to be specifically because members paid over $1,000 in cost for those claims. For those 26 claims, the member cost was over 25% of the total gross cost of the claims, which is drastically higher to the average around 11% for all claims.  "
   ]
  },
  {
   "cell_type": "markdown",
   "id": "1a20cae2-5efc-4b58-984e-d0fd073ae2db",
   "metadata": {},
   "source": [
    "### Main Outliers"
   ]
  },
  {
   "cell_type": "code",
   "execution_count": null,
   "id": "05076425-614e-4ca0-907b-d3ea720d5ea6",
   "metadata": {},
   "outputs": [],
   "source": [
    "ml_outliers = outliers[outliers['gc_outlier'] > 3]\n",
    "ml_outliers.head()"
   ]
  },
  {
   "cell_type": "markdown",
   "id": "8f529312-8ed7-4203-b4eb-08b4b94f2bc4",
   "metadata": {},
   "source": [
    "### Potential Outliers"
   ]
  },
  {
   "cell_type": "code",
   "execution_count": null,
   "id": "ee4790c0-0bce-499f-877e-96e4a727c555",
   "metadata": {},
   "outputs": [],
   "source": [
    "potential_outliers = outliers[outliers['mc_outlier'] > 3]\n",
    "num = len(potential_outliers)\n",
    "print(f'Number of total potential outliers - {num}')"
   ]
  },
  {
   "cell_type": "markdown",
   "id": "df0f0fe5-d46e-42ad-8381-63a60e151d88",
   "metadata": {},
   "source": [
    "### More Examination\n",
    "\n",
    "These 6 outliers were from 2 different members. They were all Pain Drug 2 from Walmart and cost 5600 US Dollars total and only 20 for members. The average for the Pain Management Class is 528 for gross and 20 for members. The large gap of these claims present interesting statistics for further examination"
   ]
  },
  {
   "cell_type": "code",
   "execution_count": null,
   "id": "2bd700a0-9ed9-48a3-8980-ee6e5a6b94b4",
   "metadata": {},
   "outputs": [],
   "source": [
    "outliers[outliers['drug_class'] == 'PAIN MANAGEMENT']"
   ]
  },
  {
   "cell_type": "code",
   "execution_count": null,
   "id": "54c54390-8ec4-4c44-a910-91576af15732",
   "metadata": {},
   "outputs": [],
   "source": []
  }
 ],
 "metadata": {
  "kernelspec": {
   "display_name": "Python 3 (ipykernel)",
   "language": "python",
   "name": "python3"
  },
  "language_info": {
   "codemirror_mode": {
    "name": "ipython",
    "version": 3
   },
   "file_extension": ".py",
   "mimetype": "text/x-python",
   "name": "python",
   "nbconvert_exporter": "python",
   "pygments_lexer": "ipython3",
   "version": "3.9.12"
  }
 },
 "nbformat": 4,
 "nbformat_minor": 5
}
